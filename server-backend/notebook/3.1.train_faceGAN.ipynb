{
 "cells": [
  {
   "cell_type": "code",
   "execution_count": 1,
   "metadata": {},
   "outputs": [],
   "source": [
    "import os\n",
    "import numpy as np\n",
    "import torch\n",
    "import time\n",
    "import pickle\n",
    "import matplotlib.pyplot as plt\n",
    "from collections import OrderedDict\n",
    "from torch.autograd import Variable\n",
    "from pathlib import Path\n",
    "\n",
    "%matplotlib inline"
   ]
  },
  {
   "cell_type": "code",
   "execution_count": 2,
   "metadata": {},
   "outputs": [],
   "source": [
    "pix2pixhd_dir = Path('../src/pix2pixHD/')\n",
    "\n",
    "import sys\n",
    "sys.path.append(str(pix2pixhd_dir))\n",
    "\n",
    "%load_ext autoreload\n",
    "%autoreload 2"
   ]
  },
  {
   "cell_type": "code",
   "execution_count": 3,
   "metadata": {},
   "outputs": [],
   "source": [
    "from options.train_options import TrainOptions\n",
    "from data.data_loader import CreateDataLoader\n",
    "from models.models import create_model\n",
    "import util.util as util\n",
    "from util.visualizer import Visualizer"
   ]
  },
  {
   "cell_type": "code",
   "execution_count": 4,
   "metadata": {},
   "outputs": [],
   "source": [
    "with open('../data/train_opt.pkl', mode='rb') as f:\n",
    "    opt = pickle.load(f)\n",
    "    \n",
    "iter_path = os.path.join(opt.checkpoints_dir, opt.name, 'iter.txt')"
   ]
  },
  {
   "cell_type": "code",
   "execution_count": 5,
   "metadata": {},
   "outputs": [],
   "source": [
    "#opt.lr = 7e-4\n",
    "opt.loadSize = 224\n",
    "# opt.resize_or_crop = None\n",
    "opt.no_flip = True\n",
    "opt.nThreads = 2\n",
    "#opt.lambda_feat = 25.0\n",
    "opt.model = 'pix2pixHD_faceGAN'\n",
    "opt.dataroot='../data/target/MJ_dance/'\n",
    "opt.name = 'MJ_dance'\n",
    "opt.add_face_disc = True\n",
    "opt.fineSize = opt.loadSize\n",
    "opt.num_D = 3\n",
    "# opt.n_local_enhancers = 0\n",
    "# opt.n_layers_D = 1\n",
    "# opt.lr = 5e-5\n",
    "opt.temp_data = False\n",
    "#opt.no_ganFeat_loss = True\n",
    "#opt.niter=10\n",
    "#opt.niter_decay=10\n",
    "opt.label_nc = 25\n",
    "opt.debug = True\n",
    "#opt.load_pretrain = '../checkpoints/target/'"
   ]
  },
  {
   "cell_type": "code",
   "execution_count": 6,
   "metadata": {},
   "outputs": [
    {
     "data": {
      "text/plain": [
       "Namespace(add_face_disc=True, batchSize=1, beta1=0.5, checkpoints_dir='../checkpoints/', continue_train=False, data_type=32, dataroot='../data/target/MJ_dance/', debug=True, display_freq=1, display_winsize=512, feat_num=3, fineSize=224, fine_size=480, gpu_ids=[0], input_nc=3, instance_feat=False, isTrain=True, label_feat=False, label_nc=25, lambda_feat=10.0, loadSize=224, load_features=False, load_pretrain='', lr=0.0002, max_dataset_size=10, model='pix2pixHD_faceGAN', nThreads=2, n_blocks_global=9, n_blocks_local=3, n_clusters=10, n_downsample_E=4, n_downsample_global=4, n_layers_D=3, n_local_enhancers=1, name='MJ_dance', ndf=64, nef=16, netG='global', ngf=64, niter=5, niter_decay=5, niter_fix_global=0, no_flip=True, no_ganFeat_loss=False, no_html=False, no_instance=True, no_lsgan=False, no_vgg_loss=False, norm='instance', num_D=3, output_nc=3, phase='train', pool_size=0, print_freq=1, resize_or_crop='scale_width', save_epoch_freq=10, save_latest_freq=640, serial_batches=False, temp_data=False, tf_log=False, use_dropout=False, verbose=False, which_epoch='latest')"
      ]
     },
     "execution_count": 6,
     "metadata": {},
     "output_type": "execute_result"
    }
   ],
   "source": [
    "if opt.continue_train:\n",
    "    try:\n",
    "        start_epoch, epoch_iter = np.loadtxt(iter_path , delimiter=',', dtype=int)\n",
    "    except:\n",
    "        start_epoch, epoch_iter = 1, 0\n",
    "    print('Resuming from epoch %d at iteration %d' % (start_epoch, epoch_iter))        \n",
    "else:    \n",
    "    start_epoch, epoch_iter = 1, 0\n",
    "\n",
    "if opt.debug:\n",
    "    opt.display_freq = 1\n",
    "    opt.print_freq = 1\n",
    "    opt.niter = 5\n",
    "    opt.niter_decay = 5\n",
    "    opt.max_dataset_size = 10\n",
    "opt"
   ]
  },
  {
   "cell_type": "code",
   "execution_count": 7,
   "metadata": {},
   "outputs": [
    {
     "name": "stdout",
     "output_type": "stream",
     "text": [
      "CustomDatasetDataLoader\n",
      "dataset [AlignedDataset] was created\n",
      "#training images = 10\n"
     ]
    }
   ],
   "source": [
    "data_loader = CreateDataLoader(opt)\n",
    "dataset = data_loader.load_data()\n",
    "dataset_size = len(data_loader)\n",
    "print('#training images = %d' % dataset_size)\n",
    "    \n",
    "# start_epoch, epoch_iter = 1, 0\n",
    "total_steps = (start_epoch-1) * dataset_size + epoch_iter\n",
    "display_delta = total_steps % opt.display_freq\n",
    "print_delta = total_steps % opt.print_freq\n",
    "save_delta = total_steps % opt.save_latest_freq"
   ]
  },
  {
   "cell_type": "code",
   "execution_count": 8,
   "metadata": {},
   "outputs": [
    {
     "name": "stdout",
     "output_type": "stream",
     "text": [
      "GlobalGenerator(\n",
      "  (model): Sequential(\n",
      "    (0): ReflectionPad2d((3, 3, 3, 3))\n",
      "    (1): Conv2d(25, 64, kernel_size=(7, 7), stride=(1, 1))\n",
      "    (2): InstanceNorm2d(64, eps=1e-05, momentum=0.1, affine=False, track_running_stats=False)\n",
      "    (3): ReLU(inplace)\n",
      "    (4): Conv2d(64, 128, kernel_size=(3, 3), stride=(2, 2), padding=(1, 1))\n",
      "    (5): InstanceNorm2d(128, eps=1e-05, momentum=0.1, affine=False, track_running_stats=False)\n",
      "    (6): ReLU(inplace)\n",
      "    (7): Conv2d(128, 256, kernel_size=(3, 3), stride=(2, 2), padding=(1, 1))\n",
      "    (8): InstanceNorm2d(256, eps=1e-05, momentum=0.1, affine=False, track_running_stats=False)\n",
      "    (9): ReLU(inplace)\n",
      "    (10): Conv2d(256, 512, kernel_size=(3, 3), stride=(2, 2), padding=(1, 1))\n",
      "    (11): InstanceNorm2d(512, eps=1e-05, momentum=0.1, affine=False, track_running_stats=False)\n",
      "    (12): ReLU(inplace)\n",
      "    (13): Conv2d(512, 1024, kernel_size=(3, 3), stride=(2, 2), padding=(1, 1))\n",
      "    (14): InstanceNorm2d(1024, eps=1e-05, momentum=0.1, affine=False, track_running_stats=False)\n",
      "    (15): ReLU(inplace)\n",
      "    (16): ResnetBlock(\n",
      "      (conv_block): Sequential(\n",
      "        (0): ReflectionPad2d((1, 1, 1, 1))\n",
      "        (1): Conv2d(1024, 1024, kernel_size=(3, 3), stride=(1, 1))\n",
      "        (2): InstanceNorm2d(1024, eps=1e-05, momentum=0.1, affine=False, track_running_stats=False)\n",
      "        (3): ReLU(inplace)\n",
      "        (4): ReflectionPad2d((1, 1, 1, 1))\n",
      "        (5): Conv2d(1024, 1024, kernel_size=(3, 3), stride=(1, 1))\n",
      "        (6): InstanceNorm2d(1024, eps=1e-05, momentum=0.1, affine=False, track_running_stats=False)\n",
      "      )\n",
      "    )\n",
      "    (17): ResnetBlock(\n",
      "      (conv_block): Sequential(\n",
      "        (0): ReflectionPad2d((1, 1, 1, 1))\n",
      "        (1): Conv2d(1024, 1024, kernel_size=(3, 3), stride=(1, 1))\n",
      "        (2): InstanceNorm2d(1024, eps=1e-05, momentum=0.1, affine=False, track_running_stats=False)\n",
      "        (3): ReLU(inplace)\n",
      "        (4): ReflectionPad2d((1, 1, 1, 1))\n",
      "        (5): Conv2d(1024, 1024, kernel_size=(3, 3), stride=(1, 1))\n",
      "        (6): InstanceNorm2d(1024, eps=1e-05, momentum=0.1, affine=False, track_running_stats=False)\n",
      "      )\n",
      "    )\n",
      "    (18): ResnetBlock(\n",
      "      (conv_block): Sequential(\n",
      "        (0): ReflectionPad2d((1, 1, 1, 1))\n",
      "        (1): Conv2d(1024, 1024, kernel_size=(3, 3), stride=(1, 1))\n",
      "        (2): InstanceNorm2d(1024, eps=1e-05, momentum=0.1, affine=False, track_running_stats=False)\n",
      "        (3): ReLU(inplace)\n",
      "        (4): ReflectionPad2d((1, 1, 1, 1))\n",
      "        (5): Conv2d(1024, 1024, kernel_size=(3, 3), stride=(1, 1))\n",
      "        (6): InstanceNorm2d(1024, eps=1e-05, momentum=0.1, affine=False, track_running_stats=False)\n",
      "      )\n",
      "    )\n",
      "    (19): ResnetBlock(\n",
      "      (conv_block): Sequential(\n",
      "        (0): ReflectionPad2d((1, 1, 1, 1))\n",
      "        (1): Conv2d(1024, 1024, kernel_size=(3, 3), stride=(1, 1))\n",
      "        (2): InstanceNorm2d(1024, eps=1e-05, momentum=0.1, affine=False, track_running_stats=False)\n",
      "        (3): ReLU(inplace)\n",
      "        (4): ReflectionPad2d((1, 1, 1, 1))\n",
      "        (5): Conv2d(1024, 1024, kernel_size=(3, 3), stride=(1, 1))\n",
      "        (6): InstanceNorm2d(1024, eps=1e-05, momentum=0.1, affine=False, track_running_stats=False)\n",
      "      )\n",
      "    )\n",
      "    (20): ResnetBlock(\n",
      "      (conv_block): Sequential(\n",
      "        (0): ReflectionPad2d((1, 1, 1, 1))\n",
      "        (1): Conv2d(1024, 1024, kernel_size=(3, 3), stride=(1, 1))\n",
      "        (2): InstanceNorm2d(1024, eps=1e-05, momentum=0.1, affine=False, track_running_stats=False)\n",
      "        (3): ReLU(inplace)\n",
      "        (4): ReflectionPad2d((1, 1, 1, 1))\n",
      "        (5): Conv2d(1024, 1024, kernel_size=(3, 3), stride=(1, 1))\n",
      "        (6): InstanceNorm2d(1024, eps=1e-05, momentum=0.1, affine=False, track_running_stats=False)\n",
      "      )\n",
      "    )\n",
      "    (21): ResnetBlock(\n",
      "      (conv_block): Sequential(\n",
      "        (0): ReflectionPad2d((1, 1, 1, 1))\n",
      "        (1): Conv2d(1024, 1024, kernel_size=(3, 3), stride=(1, 1))\n",
      "        (2): InstanceNorm2d(1024, eps=1e-05, momentum=0.1, affine=False, track_running_stats=False)\n",
      "        (3): ReLU(inplace)\n",
      "        (4): ReflectionPad2d((1, 1, 1, 1))\n",
      "        (5): Conv2d(1024, 1024, kernel_size=(3, 3), stride=(1, 1))\n",
      "        (6): InstanceNorm2d(1024, eps=1e-05, momentum=0.1, affine=False, track_running_stats=False)\n",
      "      )\n",
      "    )\n",
      "    (22): ResnetBlock(\n",
      "      (conv_block): Sequential(\n",
      "        (0): ReflectionPad2d((1, 1, 1, 1))\n",
      "        (1): Conv2d(1024, 1024, kernel_size=(3, 3), stride=(1, 1))\n",
      "        (2): InstanceNorm2d(1024, eps=1e-05, momentum=0.1, affine=False, track_running_stats=False)\n",
      "        (3): ReLU(inplace)\n",
      "        (4): ReflectionPad2d((1, 1, 1, 1))\n",
      "        (5): Conv2d(1024, 1024, kernel_size=(3, 3), stride=(1, 1))\n",
      "        (6): InstanceNorm2d(1024, eps=1e-05, momentum=0.1, affine=False, track_running_stats=False)\n",
      "      )\n",
      "    )\n",
      "    (23): ResnetBlock(\n",
      "      (conv_block): Sequential(\n",
      "        (0): ReflectionPad2d((1, 1, 1, 1))\n",
      "        (1): Conv2d(1024, 1024, kernel_size=(3, 3), stride=(1, 1))\n",
      "        (2): InstanceNorm2d(1024, eps=1e-05, momentum=0.1, affine=False, track_running_stats=False)\n",
      "        (3): ReLU(inplace)\n",
      "        (4): ReflectionPad2d((1, 1, 1, 1))\n",
      "        (5): Conv2d(1024, 1024, kernel_size=(3, 3), stride=(1, 1))\n",
      "        (6): InstanceNorm2d(1024, eps=1e-05, momentum=0.1, affine=False, track_running_stats=False)\n",
      "      )\n",
      "    )\n",
      "    (24): ResnetBlock(\n",
      "      (conv_block): Sequential(\n",
      "        (0): ReflectionPad2d((1, 1, 1, 1))\n",
      "        (1): Conv2d(1024, 1024, kernel_size=(3, 3), stride=(1, 1))\n",
      "        (2): InstanceNorm2d(1024, eps=1e-05, momentum=0.1, affine=False, track_running_stats=False)\n",
      "        (3): ReLU(inplace)\n",
      "        (4): ReflectionPad2d((1, 1, 1, 1))\n",
      "        (5): Conv2d(1024, 1024, kernel_size=(3, 3), stride=(1, 1))\n",
      "        (6): InstanceNorm2d(1024, eps=1e-05, momentum=0.1, affine=False, track_running_stats=False)\n",
      "      )\n",
      "    )\n",
      "    (25): ConvTranspose2d(1024, 512, kernel_size=(3, 3), stride=(2, 2), padding=(1, 1), output_padding=(1, 1))\n",
      "    (26): InstanceNorm2d(512, eps=1e-05, momentum=0.1, affine=False, track_running_stats=False)\n",
      "    (27): ReLU(inplace)\n",
      "    (28): ConvTranspose2d(512, 256, kernel_size=(3, 3), stride=(2, 2), padding=(1, 1), output_padding=(1, 1))\n",
      "    (29): InstanceNorm2d(256, eps=1e-05, momentum=0.1, affine=False, track_running_stats=False)\n",
      "    (30): ReLU(inplace)\n",
      "    (31): ConvTranspose2d(256, 128, kernel_size=(3, 3), stride=(2, 2), padding=(1, 1), output_padding=(1, 1))\n",
      "    (32): InstanceNorm2d(128, eps=1e-05, momentum=0.1, affine=False, track_running_stats=False)\n",
      "    (33): ReLU(inplace)\n",
      "    (34): ConvTranspose2d(128, 64, kernel_size=(3, 3), stride=(2, 2), padding=(1, 1), output_padding=(1, 1))\n",
      "    (35): InstanceNorm2d(64, eps=1e-05, momentum=0.1, affine=False, track_running_stats=False)\n",
      "    (36): ReLU(inplace)\n",
      "    (37): ReflectionPad2d((3, 3, 3, 3))\n",
      "    (38): Conv2d(64, 3, kernel_size=(7, 7), stride=(1, 1))\n",
      "    (39): Tanh()\n",
      "  )\n",
      ")\n",
      "MultiscaleDiscriminator(\n",
      "  (scale0_layer0): Sequential(\n",
      "    (0): Conv2d(28, 64, kernel_size=(4, 4), stride=(2, 2), padding=(2, 2))\n",
      "    (1): LeakyReLU(negative_slope=0.2, inplace)\n",
      "  )\n",
      "  (scale0_layer1): Sequential(\n",
      "    (0): Conv2d(64, 128, kernel_size=(4, 4), stride=(2, 2), padding=(2, 2))\n",
      "    (1): InstanceNorm2d(128, eps=1e-05, momentum=0.1, affine=False, track_running_stats=False)\n",
      "    (2): LeakyReLU(negative_slope=0.2, inplace)\n",
      "  )\n",
      "  (scale0_layer2): Sequential(\n",
      "    (0): Conv2d(128, 256, kernel_size=(4, 4), stride=(2, 2), padding=(2, 2))\n",
      "    (1): InstanceNorm2d(256, eps=1e-05, momentum=0.1, affine=False, track_running_stats=False)\n",
      "    (2): LeakyReLU(negative_slope=0.2, inplace)\n",
      "  )\n",
      "  (scale0_layer3): Sequential(\n",
      "    (0): Conv2d(256, 512, kernel_size=(4, 4), stride=(1, 1), padding=(2, 2))\n",
      "    (1): InstanceNorm2d(512, eps=1e-05, momentum=0.1, affine=False, track_running_stats=False)\n",
      "    (2): LeakyReLU(negative_slope=0.2, inplace)\n",
      "  )\n",
      "  (scale0_layer4): Sequential(\n",
      "    (0): Conv2d(512, 1, kernel_size=(4, 4), stride=(1, 1), padding=(2, 2))\n",
      "  )\n",
      "  (scale1_layer0): Sequential(\n",
      "    (0): Conv2d(28, 64, kernel_size=(4, 4), stride=(2, 2), padding=(2, 2))\n",
      "    (1): LeakyReLU(negative_slope=0.2, inplace)\n",
      "  )\n",
      "  (scale1_layer1): Sequential(\n",
      "    (0): Conv2d(64, 128, kernel_size=(4, 4), stride=(2, 2), padding=(2, 2))\n",
      "    (1): InstanceNorm2d(128, eps=1e-05, momentum=0.1, affine=False, track_running_stats=False)\n",
      "    (2): LeakyReLU(negative_slope=0.2, inplace)\n",
      "  )\n",
      "  (scale1_layer2): Sequential(\n",
      "    (0): Conv2d(128, 256, kernel_size=(4, 4), stride=(2, 2), padding=(2, 2))\n",
      "    (1): InstanceNorm2d(256, eps=1e-05, momentum=0.1, affine=False, track_running_stats=False)\n",
      "    (2): LeakyReLU(negative_slope=0.2, inplace)\n",
      "  )\n",
      "  (scale1_layer3): Sequential(\n",
      "    (0): Conv2d(256, 512, kernel_size=(4, 4), stride=(1, 1), padding=(2, 2))\n",
      "    (1): InstanceNorm2d(512, eps=1e-05, momentum=0.1, affine=False, track_running_stats=False)\n",
      "    (2): LeakyReLU(negative_slope=0.2, inplace)\n",
      "  )\n",
      "  (scale1_layer4): Sequential(\n",
      "    (0): Conv2d(512, 1, kernel_size=(4, 4), stride=(1, 1), padding=(2, 2))\n",
      "  )\n",
      "  (scale2_layer0): Sequential(\n",
      "    (0): Conv2d(28, 64, kernel_size=(4, 4), stride=(2, 2), padding=(2, 2))\n",
      "    (1): LeakyReLU(negative_slope=0.2, inplace)\n",
      "  )\n",
      "  (scale2_layer1): Sequential(\n",
      "    (0): Conv2d(64, 128, kernel_size=(4, 4), stride=(2, 2), padding=(2, 2))\n",
      "    (1): InstanceNorm2d(128, eps=1e-05, momentum=0.1, affine=False, track_running_stats=False)\n",
      "    (2): LeakyReLU(negative_slope=0.2, inplace)\n",
      "  )\n",
      "  (scale2_layer2): Sequential(\n",
      "    (0): Conv2d(128, 256, kernel_size=(4, 4), stride=(2, 2), padding=(2, 2))\n",
      "    (1): InstanceNorm2d(256, eps=1e-05, momentum=0.1, affine=False, track_running_stats=False)\n",
      "    (2): LeakyReLU(negative_slope=0.2, inplace)\n",
      "  )\n",
      "  (scale2_layer3): Sequential(\n",
      "    (0): Conv2d(256, 512, kernel_size=(4, 4), stride=(1, 1), padding=(2, 2))\n",
      "    (1): InstanceNorm2d(512, eps=1e-05, momentum=0.1, affine=False, track_running_stats=False)\n",
      "    (2): LeakyReLU(negative_slope=0.2, inplace)\n",
      "  )\n",
      "  (scale2_layer4): Sequential(\n",
      "    (0): Conv2d(512, 1, kernel_size=(4, 4), stride=(1, 1), padding=(2, 2))\n",
      "  )\n",
      "  (downsample): AvgPool2d(kernel_size=3, stride=2, padding=[1, 1])\n",
      ")\n",
      "MultiscaleDiscriminator(\n",
      "  (scale0_layer0): Sequential(\n",
      "    (0): Conv2d(28, 64, kernel_size=(4, 4), stride=(2, 2), padding=(2, 2))\n",
      "    (1): LeakyReLU(negative_slope=0.2, inplace)\n",
      "  )\n",
      "  (scale0_layer1): Sequential(\n",
      "    (0): Conv2d(64, 128, kernel_size=(4, 4), stride=(2, 2), padding=(2, 2))\n",
      "    (1): InstanceNorm2d(128, eps=1e-05, momentum=0.1, affine=False, track_running_stats=False)\n",
      "    (2): LeakyReLU(negative_slope=0.2, inplace)\n",
      "  )\n",
      "  (scale0_layer2): Sequential(\n",
      "    (0): Conv2d(128, 256, kernel_size=(4, 4), stride=(2, 2), padding=(2, 2))\n",
      "    (1): InstanceNorm2d(256, eps=1e-05, momentum=0.1, affine=False, track_running_stats=False)\n",
      "    (2): LeakyReLU(negative_slope=0.2, inplace)\n",
      "  )\n",
      "  (scale0_layer3): Sequential(\n",
      "    (0): Conv2d(256, 512, kernel_size=(4, 4), stride=(1, 1), padding=(2, 2))\n",
      "    (1): InstanceNorm2d(512, eps=1e-05, momentum=0.1, affine=False, track_running_stats=False)\n",
      "    (2): LeakyReLU(negative_slope=0.2, inplace)\n",
      "  )\n",
      "  (scale0_layer4): Sequential(\n",
      "    (0): Conv2d(512, 1, kernel_size=(4, 4), stride=(1, 1), padding=(2, 2))\n",
      "  )\n",
      "  (scale1_layer0): Sequential(\n",
      "    (0): Conv2d(28, 64, kernel_size=(4, 4), stride=(2, 2), padding=(2, 2))\n",
      "    (1): LeakyReLU(negative_slope=0.2, inplace)\n",
      "  )\n",
      "  (scale1_layer1): Sequential(\n",
      "    (0): Conv2d(64, 128, kernel_size=(4, 4), stride=(2, 2), padding=(2, 2))\n",
      "    (1): InstanceNorm2d(128, eps=1e-05, momentum=0.1, affine=False, track_running_stats=False)\n",
      "    (2): LeakyReLU(negative_slope=0.2, inplace)\n",
      "  )\n",
      "  (scale1_layer2): Sequential(\n",
      "    (0): Conv2d(128, 256, kernel_size=(4, 4), stride=(2, 2), padding=(2, 2))\n",
      "    (1): InstanceNorm2d(256, eps=1e-05, momentum=0.1, affine=False, track_running_stats=False)\n",
      "    (2): LeakyReLU(negative_slope=0.2, inplace)\n",
      "  )\n",
      "  (scale1_layer3): Sequential(\n",
      "    (0): Conv2d(256, 512, kernel_size=(4, 4), stride=(1, 1), padding=(2, 2))\n",
      "    (1): InstanceNorm2d(512, eps=1e-05, momentum=0.1, affine=False, track_running_stats=False)\n",
      "    (2): LeakyReLU(negative_slope=0.2, inplace)\n",
      "  )\n",
      "  (scale1_layer4): Sequential(\n",
      "    (0): Conv2d(512, 1, kernel_size=(4, 4), stride=(1, 1), padding=(2, 2))\n",
      "  )\n",
      "  (downsample): AvgPool2d(kernel_size=3, stride=2, padding=[1, 1])\n",
      ")\n"
     ]
    },
    {
     "name": "stdout",
     "output_type": "stream",
     "text": [
      "create web directory ../checkpoints/MJ_dance/web...\n"
     ]
    }
   ],
   "source": [
    "model = create_model(opt)\n",
    "visualizer = Visualizer(opt)"
   ]
  },
  {
   "cell_type": "code",
   "execution_count": 9,
   "metadata": {},
   "outputs": [
    {
     "name": "stderr",
     "output_type": "stream",
     "text": [
      "/home/yaosy/anaconda3/envs/pytorch/lib/python3.6/site-packages/ipykernel_launcher.py:43: UserWarning: invalid index of a 0-dim tensor. This will be an error in PyTorch 0.5. Use tensor.item() to convert a 0-dim tensor to a Python number\n"
     ]
    },
    {
     "name": "stdout",
     "output_type": "stream",
     "text": [
      "(epoch: 1, iters: 1, time: 2.744) G_GAN: 8.321 G_GAN_Feat: 16.666 G_VGG: 14.179 D_real: 8.611 D_fake: 3.658 G_f_GAN: 8.633 G_f_GAN_Feat: 33.112 D_f_real: 4.009 D_f_fake: 2.530 \n",
      "(epoch: 1, iters: 2, time: 0.262) G_GAN: 7.723 G_GAN_Feat: 16.566 G_VGG: 13.777 D_real: 9.744 D_fake: 6.269 G_f_GAN: 7.655 G_f_GAN_Feat: 31.692 D_f_real: 3.965 D_f_fake: 3.451 \n",
      "(epoch: 1, iters: 3, time: 0.280) G_GAN: 8.038 G_GAN_Feat: 16.023 G_VGG: 14.064 D_real: 9.659 D_fake: 8.435 G_f_GAN: 4.841 G_f_GAN_Feat: 32.259 D_f_real: 3.270 D_f_fake: 2.651 \n",
      "(epoch: 1, iters: 4, time: 0.257) G_GAN: 5.744 G_GAN_Feat: 17.133 G_VGG: 14.073 D_real: 4.168 D_fake: 6.183 G_f_GAN: 4.339 G_f_GAN_Feat: 34.286 D_f_real: 2.687 D_f_fake: 1.971 \n",
      "(epoch: 1, iters: 5, time: 0.265) G_GAN: 5.644 G_GAN_Feat: 16.337 G_VGG: 13.694 D_real: 4.338 D_fake: 5.781 G_f_GAN: 5.206 G_f_GAN_Feat: 31.646 D_f_real: 1.883 D_f_fake: 2.629 \n",
      "(epoch: 1, iters: 6, time: 0.266) G_GAN: 4.026 G_GAN_Feat: 15.664 G_VGG: 13.355 D_real: 2.980 D_fake: 3.917 G_f_GAN: 5.155 G_f_GAN_Feat: 30.759 D_f_real: 1.802 D_f_fake: 2.021 \n",
      "(epoch: 1, iters: 7, time: 0.263) G_GAN: 3.981 G_GAN_Feat: 15.279 G_VGG: 12.970 D_real: 2.986 D_fake: 3.382 G_f_GAN: 4.572 G_f_GAN_Feat: 31.206 D_f_real: 2.338 D_f_fake: 1.885 \n",
      "(epoch: 1, iters: 8, time: 0.224) G_GAN: 4.959 G_GAN_Feat: 14.836 G_VGG: 12.917 D_real: 3.610 D_fake: 4.187 G_f_GAN: 4.505 G_f_GAN_Feat: 29.650 D_f_real: 2.528 D_f_fake: 2.156 \n",
      "(epoch: 1, iters: 9, time: 0.225) G_GAN: 4.754 G_GAN_Feat: 14.564 G_VGG: 12.891 D_real: 2.185 D_fake: 3.791 G_f_GAN: 4.318 G_f_GAN_Feat: 29.173 D_f_real: 2.369 D_f_fake: 1.791 \n",
      "(epoch: 1, iters: 10, time: 0.221) G_GAN: 3.407 G_GAN_Feat: 14.536 G_VGG: 12.930 D_real: 2.021 D_fake: 2.373 G_f_GAN: 5.839 G_f_GAN_Feat: 29.035 D_f_real: 1.973 D_f_fake: 2.253 \n",
      "End of epoch 1 / 10 \t Time Taken: 6 sec\n",
      "(epoch: 2, iters: 1, time: 0.221) G_GAN: 2.753 G_GAN_Feat: 13.989 G_VGG: 12.348 D_real: 1.308 D_fake: 1.727 G_f_GAN: 5.894 G_f_GAN_Feat: 27.453 D_f_real: 1.724 D_f_fake: 2.269 \n",
      "(epoch: 2, iters: 2, time: 0.213) G_GAN: 2.735 G_GAN_Feat: 13.890 G_VGG: 12.950 D_real: 1.469 D_fake: 1.618 G_f_GAN: 8.422 G_f_GAN_Feat: 27.891 D_f_real: 3.009 D_f_fake: 3.810 \n",
      "(epoch: 2, iters: 3, time: 0.237) G_GAN: 3.046 G_GAN_Feat: 13.705 G_VGG: 12.872 D_real: 1.670 D_fake: 1.712 G_f_GAN: 7.975 G_f_GAN_Feat: 26.805 D_f_real: 3.991 D_f_fake: 3.598 \n",
      "(epoch: 2, iters: 4, time: 0.228) G_GAN: 3.255 G_GAN_Feat: 13.126 G_VGG: 12.303 D_real: 1.420 D_fake: 1.946 G_f_GAN: 5.886 G_f_GAN_Feat: 27.520 D_f_real: 2.812 D_f_fake: 2.292 \n",
      "(epoch: 2, iters: 5, time: 0.215) G_GAN: 4.270 G_GAN_Feat: 12.811 G_VGG: 12.346 D_real: 2.323 D_fake: 3.091 \n",
      "(epoch: 2, iters: 6, time: 0.220) G_GAN: 7.394 G_GAN_Feat: 13.738 G_VGG: 12.767 D_real: 3.391 D_fake: 5.973 G_f_GAN: 7.011 G_f_GAN_Feat: 26.286 D_f_real: 3.372 D_f_fake: 3.619 \n",
      "(epoch: 2, iters: 7, time: 0.239) G_GAN: 4.209 G_GAN_Feat: 12.767 G_VGG: 12.159 D_real: 1.916 D_fake: 2.655 G_f_GAN: 5.499 G_f_GAN_Feat: 22.903 D_f_real: 2.882 D_f_fake: 2.781 \n",
      "(epoch: 2, iters: 8, time: 0.232) G_GAN: 4.024 G_GAN_Feat: 12.508 G_VGG: 12.531 D_real: 2.128 D_fake: 2.605 G_f_GAN: 6.267 G_f_GAN_Feat: 22.996 D_f_real: 2.954 D_f_fake: 2.935 \n",
      "(epoch: 2, iters: 9, time: 0.218) G_GAN: 5.068 G_GAN_Feat: 12.728 G_VGG: 12.001 D_real: 2.074 D_fake: 3.501 G_f_GAN: 4.967 G_f_GAN_Feat: 24.054 D_f_real: 2.700 D_f_fake: 2.128 \n",
      "(epoch: 2, iters: 10, time: 0.239) G_GAN: 3.691 G_GAN_Feat: 13.011 G_VGG: 12.175 D_real: 1.722 D_fake: 2.218 G_f_GAN: 4.242 G_f_GAN_Feat: 23.338 D_f_real: 1.543 D_f_fake: 1.814 \n",
      "End of epoch 2 / 10 \t Time Taken: 3 sec\n",
      "(epoch: 3, iters: 1, time: 0.226) G_GAN: 2.840 G_GAN_Feat: 12.148 G_VGG: 11.166 D_real: 1.792 D_fake: 1.560 G_f_GAN: 5.284 G_f_GAN_Feat: 26.333 D_f_real: 2.760 D_f_fake: 1.932 \n",
      "(epoch: 3, iters: 2, time: 0.237) G_GAN: 4.306 G_GAN_Feat: 12.555 G_VGG: 12.066 D_real: 1.910 D_fake: 2.653 G_f_GAN: 5.289 G_f_GAN_Feat: 21.574 D_f_real: 2.515 D_f_fake: 2.859 \n",
      "(epoch: 3, iters: 3, time: 0.231) G_GAN: 3.339 G_GAN_Feat: 12.069 G_VGG: 12.237 D_real: 1.626 D_fake: 1.796 G_f_GAN: 5.494 G_f_GAN_Feat: 19.104 D_f_real: 2.207 D_f_fake: 2.658 \n",
      "(epoch: 3, iters: 4, time: 0.239) G_GAN: 3.687 G_GAN_Feat: 11.993 G_VGG: 12.142 D_real: 1.547 D_fake: 1.834 G_f_GAN: 5.333 G_f_GAN_Feat: 20.177 D_f_real: 2.026 D_f_fake: 2.653 \n",
      "(epoch: 3, iters: 5, time: 0.234) G_GAN: 3.051 G_GAN_Feat: 11.734 G_VGG: 12.451 D_real: 1.354 D_fake: 1.328 G_f_GAN: 3.661 G_f_GAN_Feat: 18.954 D_f_real: 1.378 D_f_fake: 1.370 \n",
      "(epoch: 3, iters: 6, time: 0.218) G_GAN: 2.938 G_GAN_Feat: 12.011 G_VGG: 12.282 D_real: 1.055 D_fake: 1.242 G_f_GAN: 5.372 G_f_GAN_Feat: 20.268 D_f_real: 2.251 D_f_fake: 2.010 \n",
      "(epoch: 3, iters: 7, time: 0.267) G_GAN: 3.084 G_GAN_Feat: 12.367 G_VGG: 12.642 D_real: 1.326 D_fake: 1.458 G_f_GAN: 3.954 G_f_GAN_Feat: 21.225 D_f_real: 1.764 D_f_fake: 2.221 \n",
      "(epoch: 3, iters: 8, time: 0.238) G_GAN: 2.934 G_GAN_Feat: 12.407 G_VGG: 12.104 D_real: 1.141 D_fake: 1.285 G_f_GAN: 5.101 G_f_GAN_Feat: 23.497 D_f_real: 2.008 D_f_fake: 2.390 \n",
      "(epoch: 3, iters: 9, time: 0.226) G_GAN: 3.215 G_GAN_Feat: 11.871 G_VGG: 12.179 D_real: 0.887 D_fake: 1.331 G_f_GAN: 4.315 G_f_GAN_Feat: 19.103 D_f_real: 2.067 D_f_fake: 2.182 \n",
      "(epoch: 3, iters: 10, time: 0.231) G_GAN: 3.011 G_GAN_Feat: 11.484 G_VGG: 12.144 D_real: 0.942 D_fake: 1.092 G_f_GAN: 6.870 G_f_GAN_Feat: 16.326 D_f_real: 3.796 D_f_fake: 3.200 \n",
      "End of epoch 3 / 10 \t Time Taken: 3 sec\n",
      "(epoch: 4, iters: 1, time: 0.215) G_GAN: 2.624 G_GAN_Feat: 11.931 G_VGG: 12.003 D_real: 0.822 D_fake: 0.964 G_f_GAN: 7.730 G_f_GAN_Feat: 18.406 D_f_real: 3.015 D_f_fake: 4.093 \n",
      "(epoch: 4, iters: 2, time: 0.260) G_GAN: 2.734 G_GAN_Feat: 11.578 G_VGG: 12.307 D_real: 1.117 D_fake: 0.985 G_f_GAN: 3.286 G_f_GAN_Feat: 18.298 D_f_real: 1.582 D_f_fake: 1.656 \n",
      "(epoch: 4, iters: 3, time: 0.223) G_GAN: 2.533 G_GAN_Feat: 11.673 G_VGG: 12.702 D_real: 0.910 D_fake: 0.997 G_f_GAN: 4.110 G_f_GAN_Feat: 21.041 D_f_real: 1.814 D_f_fake: 1.743 \n",
      "(epoch: 4, iters: 4, time: 0.224) G_GAN: 2.649 G_GAN_Feat: 10.834 G_VGG: 12.193 D_real: 1.033 D_fake: 1.260 G_f_GAN: 3.355 G_f_GAN_Feat: 18.044 D_f_real: 1.523 D_f_fake: 1.241 \n",
      "(epoch: 4, iters: 5, time: 0.227) G_GAN: 2.875 G_GAN_Feat: 10.700 G_VGG: 12.327 D_real: 1.262 D_fake: 2.049 G_f_GAN: 4.266 G_f_GAN_Feat: 17.417 D_f_real: 1.907 D_f_fake: 1.998 \n",
      "(epoch: 4, iters: 6, time: 0.248) G_GAN: 5.277 G_GAN_Feat: 12.802 G_VGG: 11.813 D_real: 2.830 D_fake: 2.430 G_f_GAN: 5.408 G_f_GAN_Feat: 18.271 D_f_real: 3.619 D_f_fake: 2.642 \n",
      "(epoch: 4, iters: 7, time: 0.228) G_GAN: 4.675 G_GAN_Feat: 12.440 G_VGG: 11.761 D_real: 2.269 D_fake: 2.132 G_f_GAN: 6.189 G_f_GAN_Feat: 21.670 D_f_real: 2.939 D_f_fake: 3.383 \n",
      "(epoch: 4, iters: 8, time: 0.223) G_GAN: 3.586 G_GAN_Feat: 11.706 G_VGG: 12.405 D_real: 1.632 D_fake: 1.900 G_f_GAN: 5.027 G_f_GAN_Feat: 18.970 D_f_real: 2.503 D_f_fake: 2.472 \n",
      "(epoch: 4, iters: 9, time: 0.259) G_GAN: 3.183 G_GAN_Feat: 11.641 G_VGG: 12.730 D_real: 1.210 D_fake: 1.622 G_f_GAN: 5.387 G_f_GAN_Feat: 19.249 D_f_real: 2.187 D_f_fake: 2.578 \n",
      "(epoch: 4, iters: 10, time: 0.234) G_GAN: 3.937 G_GAN_Feat: 11.069 G_VGG: 11.100 D_real: 1.688 D_fake: 2.170 G_f_GAN: 3.605 G_f_GAN_Feat: 22.583 D_f_real: 1.556 D_f_fake: 1.631 \n",
      "End of epoch 4 / 10 \t Time Taken: 3 sec\n",
      "(epoch: 5, iters: 1, time: 0.222) G_GAN: 4.819 G_GAN_Feat: 11.211 G_VGG: 12.170 D_real: 1.904 D_fake: 3.293 G_f_GAN: 3.582 G_f_GAN_Feat: 18.408 D_f_real: 1.530 D_f_fake: 1.946 \n",
      "(epoch: 5, iters: 2, time: 0.221) G_GAN: 4.180 G_GAN_Feat: 11.048 G_VGG: 12.144 D_real: 1.794 D_fake: 2.861 G_f_GAN: 3.213 G_f_GAN_Feat: 16.175 D_f_real: 1.275 D_f_fake: 1.583 \n",
      "(epoch: 5, iters: 3, time: 0.234) G_GAN: 3.235 G_GAN_Feat: 10.732 G_VGG: 12.025 D_real: 1.391 D_fake: 2.283 G_f_GAN: 2.526 G_f_GAN_Feat: 14.777 D_f_real: 1.036 D_f_fake: 1.054 \n",
      "(epoch: 5, iters: 4, time: 0.225) G_GAN: 3.164 G_GAN_Feat: 10.484 G_VGG: 12.483 D_real: 1.697 D_fake: 2.024 G_f_GAN: 2.026 G_f_GAN_Feat: 14.834 D_f_real: 0.871 D_f_fake: 0.892 \n",
      "(epoch: 5, iters: 5, time: 0.255) G_GAN: 2.896 G_GAN_Feat: 10.629 G_VGG: 12.331 D_real: 1.453 D_fake: 1.435 G_f_GAN: 2.699 G_f_GAN_Feat: 17.710 D_f_real: 1.379 D_f_fake: 0.900 \n",
      "(epoch: 5, iters: 6, time: 0.223) G_GAN: 2.256 G_GAN_Feat: 9.696 G_VGG: 12.147 D_real: 1.010 D_fake: 1.001 G_f_GAN: 1.999 G_f_GAN_Feat: 15.241 D_f_real: 0.955 D_f_fake: 0.899 \n"
     ]
    },
    {
     "name": "stdout",
     "output_type": "stream",
     "text": [
      "(epoch: 5, iters: 7, time: 0.232) G_GAN: 1.817 G_GAN_Feat: 10.129 G_VGG: 12.407 D_real: 0.766 D_fake: 1.008 G_f_GAN: 1.931 G_f_GAN_Feat: 14.185 D_f_real: 1.014 D_f_fake: 0.962 \n",
      "(epoch: 5, iters: 8, time: 0.236) G_GAN: 2.621 G_GAN_Feat: 10.089 G_VGG: 11.587 D_real: 0.832 D_fake: 0.601 G_f_GAN: 3.646 G_f_GAN_Feat: 17.675 D_f_real: 1.702 D_f_fake: 1.711 \n",
      "(epoch: 5, iters: 9, time: 0.231) G_GAN: 1.575 G_GAN_Feat: 10.404 G_VGG: 12.353 D_real: 0.609 D_fake: 1.040 G_f_GAN: 3.046 G_f_GAN_Feat: 15.458 D_f_real: 1.163 D_f_fake: 1.545 \n",
      "(epoch: 5, iters: 10, time: 0.234) G_GAN: 2.021 G_GAN_Feat: 10.744 G_VGG: 12.469 D_real: 0.761 D_fake: 0.851 G_f_GAN: 2.216 G_f_GAN_Feat: 19.563 D_f_real: 1.206 D_f_fake: 0.776 \n",
      "End of epoch 5 / 10 \t Time Taken: 3 sec\n",
      "(epoch: 6, iters: 1, time: 0.231) G_GAN: 2.278 G_GAN_Feat: 9.912 G_VGG: 11.727 D_real: 0.789 D_fake: 0.734 G_f_GAN: 1.963 G_f_GAN_Feat: 16.860 D_f_real: 0.883 D_f_fake: 0.694 \n",
      "(epoch: 6, iters: 2, time: 0.230) G_GAN: 2.126 G_GAN_Feat: 8.698 G_VGG: 11.747 D_real: 1.103 D_fake: 0.813 G_f_GAN: 2.238 G_f_GAN_Feat: 14.168 D_f_real: 0.877 D_f_fake: 0.775 \n",
      "(epoch: 6, iters: 3, time: 0.232) G_GAN: 2.029 G_GAN_Feat: 8.829 G_VGG: 11.463 D_real: 1.019 D_fake: 1.293 G_f_GAN: 1.623 G_f_GAN_Feat: 13.976 D_f_real: 0.684 D_f_fake: 0.687 \n",
      "(epoch: 6, iters: 4, time: 0.225) G_GAN: 2.505 G_GAN_Feat: 9.093 G_VGG: 11.421 D_real: 1.160 D_fake: 1.391 G_f_GAN: 1.493 G_f_GAN_Feat: 12.866 D_f_real: 0.659 D_f_fake: 0.790 \n",
      "(epoch: 6, iters: 5, time: 0.227) G_GAN: 1.989 G_GAN_Feat: 8.761 G_VGG: 11.844 D_real: 0.930 D_fake: 0.985 G_f_GAN: 2.161 G_f_GAN_Feat: 14.830 D_f_real: 1.062 D_f_fake: 0.747 \n",
      "(epoch: 6, iters: 6, time: 0.235) G_GAN: 1.854 G_GAN_Feat: 9.377 G_VGG: 11.366 D_real: 0.805 D_fake: 0.732 G_f_GAN: 2.017 G_f_GAN_Feat: 15.915 D_f_real: 0.928 D_f_fake: 0.979 \n",
      "(epoch: 6, iters: 7, time: 0.226) G_GAN: 2.073 G_GAN_Feat: 8.610 G_VGG: 11.345 D_real: 0.909 D_fake: 0.866 G_f_GAN: 1.873 G_f_GAN_Feat: 12.152 D_f_real: 0.869 D_f_fake: 0.822 \n",
      "(epoch: 6, iters: 8, time: 0.257) G_GAN: 2.057 G_GAN_Feat: 8.609 G_VGG: 10.802 D_real: 0.867 D_fake: 1.003 G_f_GAN: 2.719 G_f_GAN_Feat: 12.988 D_f_real: 1.187 D_f_fake: 0.998 \n",
      "(epoch: 6, iters: 9, time: 0.218) G_GAN: 2.529 G_GAN_Feat: 8.553 G_VGG: 10.795 D_real: 1.299 D_fake: 1.369 \n",
      "(epoch: 6, iters: 10, time: 0.225) G_GAN: 2.450 G_GAN_Feat: 8.299 G_VGG: 10.878 D_real: 1.185 D_fake: 1.371 G_f_GAN: 3.164 G_f_GAN_Feat: 12.429 D_f_real: 1.316 D_f_fake: 1.496 \n",
      "End of epoch 6 / 10 \t Time Taken: 3 sec\n",
      "(epoch: 7, iters: 1, time: 0.220) G_GAN: 2.235 G_GAN_Feat: 7.888 G_VGG: 10.596 D_real: 1.158 D_fake: 1.050 G_f_GAN: 2.212 G_f_GAN_Feat: 11.885 D_f_real: 0.796 D_f_fake: 0.840 \n",
      "(epoch: 7, iters: 2, time: 0.239) G_GAN: 1.953 G_GAN_Feat: 8.429 G_VGG: 10.640 D_real: 0.773 D_fake: 0.578 G_f_GAN: 2.535 G_f_GAN_Feat: 17.354 D_f_real: 1.563 D_f_fake: 0.808 \n",
      "(epoch: 7, iters: 3, time: 0.224) G_GAN: 1.666 G_GAN_Feat: 9.142 G_VGG: 11.052 D_real: 0.479 D_fake: 0.632 G_f_GAN: 2.489 G_f_GAN_Feat: 13.105 D_f_real: 0.903 D_f_fake: 1.182 \n",
      "(epoch: 7, iters: 4, time: 0.223) G_GAN: 1.696 G_GAN_Feat: 8.923 G_VGG: 11.010 D_real: 0.535 D_fake: 0.544 G_f_GAN: 2.193 G_f_GAN_Feat: 18.577 D_f_real: 0.840 D_f_fake: 0.874 \n",
      "(epoch: 7, iters: 5, time: 0.223) G_GAN: 1.836 G_GAN_Feat: 8.884 G_VGG: 10.489 D_real: 0.739 D_fake: 0.607 \n",
      "(epoch: 7, iters: 6, time: 0.244) G_GAN: 1.742 G_GAN_Feat: 8.351 G_VGG: 10.919 D_real: 0.710 D_fake: 0.623 G_f_GAN: 3.213 G_f_GAN_Feat: 10.958 D_f_real: 1.423 D_f_fake: 1.446 \n",
      "(epoch: 7, iters: 7, time: 0.238) G_GAN: 2.971 G_GAN_Feat: 9.989 G_VGG: 10.618 D_real: 0.838 D_fake: 0.614 G_f_GAN: 2.210 G_f_GAN_Feat: 17.800 D_f_real: 1.128 D_f_fake: 0.800 \n",
      "(epoch: 7, iters: 8, time: 0.212) G_GAN: 1.917 G_GAN_Feat: 8.503 G_VGG: 11.447 D_real: 0.932 D_fake: 1.136 G_f_GAN: 2.694 G_f_GAN_Feat: 14.504 D_f_real: 1.102 D_f_fake: 1.080 \n",
      "(epoch: 7, iters: 9, time: 0.241) G_GAN: 1.913 G_GAN_Feat: 8.846 G_VGG: 10.876 D_real: 0.948 D_fake: 0.888 G_f_GAN: 2.537 G_f_GAN_Feat: 14.534 D_f_real: 1.357 D_f_fake: 1.345 \n",
      "(epoch: 7, iters: 10, time: 0.220) G_GAN: 1.768 G_GAN_Feat: 8.984 G_VGG: 11.503 D_real: 0.544 D_fake: 0.710 G_f_GAN: 2.023 G_f_GAN_Feat: 13.479 D_f_real: 0.690 D_f_fake: 0.764 \n",
      "End of epoch 7 / 10 \t Time Taken: 3 sec\n",
      "(epoch: 8, iters: 1, time: 0.222) G_GAN: 1.916 G_GAN_Feat: 8.812 G_VGG: 11.265 D_real: 0.567 D_fake: 0.539 G_f_GAN: 2.125 G_f_GAN_Feat: 14.199 D_f_real: 1.085 D_f_fake: 0.901 \n",
      "(epoch: 8, iters: 2, time: 0.231) G_GAN: 1.816 G_GAN_Feat: 7.843 G_VGG: 10.426 D_real: 0.473 D_fake: 0.418 G_f_GAN: 1.752 G_f_GAN_Feat: 12.926 D_f_real: 0.659 D_f_fake: 0.683 \n",
      "(epoch: 8, iters: 3, time: 0.223) G_GAN: 2.018 G_GAN_Feat: 8.528 G_VGG: 10.740 D_real: 0.564 D_fake: 0.487 G_f_GAN: 2.096 G_f_GAN_Feat: 14.123 D_f_real: 0.987 D_f_fake: 0.648 \n",
      "(epoch: 8, iters: 4, time: 0.198) G_GAN: 1.855 G_GAN_Feat: 11.049 G_VGG: 10.107 D_real: 0.444 D_fake: 0.572 \n",
      "(epoch: 8, iters: 5, time: 0.221) G_GAN: 1.675 G_GAN_Feat: 8.877 G_VGG: 11.126 D_real: 0.549 D_fake: 0.635 G_f_GAN: 2.367 G_f_GAN_Feat: 15.029 D_f_real: 0.791 D_f_fake: 0.813 \n",
      "(epoch: 8, iters: 6, time: 0.220) G_GAN: 1.596 G_GAN_Feat: 8.293 G_VGG: 10.993 D_real: 0.586 D_fake: 0.579 G_f_GAN: 1.668 G_f_GAN_Feat: 12.941 D_f_real: 0.714 D_f_fake: 0.749 \n",
      "(epoch: 8, iters: 7, time: 0.223) G_GAN: 2.421 G_GAN_Feat: 10.546 G_VGG: 10.469 D_real: 1.041 D_fake: 0.461 G_f_GAN: 1.737 G_f_GAN_Feat: 15.751 D_f_real: 0.669 D_f_fake: 0.865 \n",
      "(epoch: 8, iters: 8, time: 0.228) G_GAN: 1.552 G_GAN_Feat: 9.037 G_VGG: 10.959 D_real: 0.525 D_fake: 0.769 G_f_GAN: 2.006 G_f_GAN_Feat: 14.562 D_f_real: 0.806 D_f_fake: 0.656 \n",
      "(epoch: 8, iters: 9, time: 0.225) G_GAN: 1.585 G_GAN_Feat: 7.819 G_VGG: 10.078 D_real: 0.443 D_fake: 0.643 G_f_GAN: 2.294 G_f_GAN_Feat: 14.182 D_f_real: 1.040 D_f_fake: 1.033 \n",
      "(epoch: 8, iters: 10, time: 0.222) G_GAN: 1.899 G_GAN_Feat: 7.828 G_VGG: 10.038 D_real: 0.483 D_fake: 0.392 G_f_GAN: 1.695 G_f_GAN_Feat: 11.161 D_f_real: 0.676 D_f_fake: 0.607 \n",
      "End of epoch 8 / 10 \t Time Taken: 3 sec\n",
      "(epoch: 9, iters: 1, time: 0.215) G_GAN: 1.689 G_GAN_Feat: 7.653 G_VGG: 10.536 D_real: 0.460 D_fake: 0.465 G_f_GAN: 1.721 G_f_GAN_Feat: 11.651 D_f_real: 0.729 D_f_fake: 0.628 \n",
      "(epoch: 9, iters: 2, time: 0.230) G_GAN: 2.239 G_GAN_Feat: 8.922 G_VGG: 11.479 D_real: 0.769 D_fake: 0.458 G_f_GAN: 1.834 G_f_GAN_Feat: 17.026 D_f_real: 0.676 D_f_fake: 0.624 \n",
      "(epoch: 9, iters: 3, time: 0.222) G_GAN: 1.494 G_GAN_Feat: 7.475 G_VGG: 10.406 D_real: 0.415 D_fake: 0.512 G_f_GAN: 1.436 G_f_GAN_Feat: 10.839 D_f_real: 0.488 D_f_fake: 0.508 \n",
      "(epoch: 9, iters: 4, time: 0.221) G_GAN: 2.374 G_GAN_Feat: 8.893 G_VGG: 10.167 D_real: 0.713 D_fake: 0.447 G_f_GAN: 2.150 G_f_GAN_Feat: 13.878 D_f_real: 1.083 D_f_fake: 0.558 \n",
      "(epoch: 9, iters: 5, time: 0.223) G_GAN: 1.598 G_GAN_Feat: 8.920 G_VGG: 10.545 D_real: 0.439 D_fake: 0.578 G_f_GAN: 1.347 G_f_GAN_Feat: 12.762 D_f_real: 0.666 D_f_fake: 0.868 \n",
      "(epoch: 9, iters: 6, time: 0.234) G_GAN: 1.530 G_GAN_Feat: 8.477 G_VGG: 11.129 D_real: 0.323 D_fake: 0.626 G_f_GAN: 1.592 G_f_GAN_Feat: 13.980 D_f_real: 0.691 D_f_fake: 0.710 \n",
      "(epoch: 9, iters: 7, time: 0.217) G_GAN: 1.659 G_GAN_Feat: 7.509 G_VGG: 10.355 D_real: 0.345 D_fake: 0.416 G_f_GAN: 1.779 G_f_GAN_Feat: 10.371 D_f_real: 0.586 D_f_fake: 0.602 \n",
      "(epoch: 9, iters: 8, time: 0.234) G_GAN: 1.764 G_GAN_Feat: 7.735 G_VGG: 10.022 D_real: 0.437 D_fake: 0.420 G_f_GAN: 1.524 G_f_GAN_Feat: 10.207 D_f_real: 0.648 D_f_fake: 0.525 \n",
      "(epoch: 9, iters: 9, time: 0.231) G_GAN: 1.818 G_GAN_Feat: 8.054 G_VGG: 10.344 D_real: 0.446 D_fake: 0.428 G_f_GAN: 1.424 G_f_GAN_Feat: 13.723 D_f_real: 0.600 D_f_fake: 0.601 \n",
      "(epoch: 9, iters: 10, time: 0.221) G_GAN: 1.843 G_GAN_Feat: 7.882 G_VGG: 10.149 D_real: 0.525 D_fake: 0.393 \n",
      "End of epoch 9 / 10 \t Time Taken: 3 sec\n",
      "(epoch: 10, iters: 1, time: 0.221) G_GAN: 1.600 G_GAN_Feat: 7.428 G_VGG: 9.953 D_real: 0.401 D_fake: 0.441 G_f_GAN: 1.488 G_f_GAN_Feat: 10.564 D_f_real: 0.502 D_f_fake: 0.576 \n",
      "(epoch: 10, iters: 2, time: 0.224) G_GAN: 1.577 G_GAN_Feat: 7.461 G_VGG: 10.145 D_real: 0.411 D_fake: 0.436 G_f_GAN: 1.374 G_f_GAN_Feat: 11.287 D_f_real: 0.502 D_f_fake: 0.533 \n",
      "(epoch: 10, iters: 3, time: 0.221) G_GAN: 1.562 G_GAN_Feat: 7.640 G_VGG: 9.604 D_real: 0.438 D_fake: 0.434 G_f_GAN: 1.661 G_f_GAN_Feat: 12.326 D_f_real: 0.751 D_f_fake: 0.484 \n"
     ]
    },
    {
     "name": "stdout",
     "output_type": "stream",
     "text": [
      "(epoch: 10, iters: 4, time: 0.227) G_GAN: 1.675 G_GAN_Feat: 8.298 G_VGG: 10.374 D_real: 0.393 D_fake: 0.381 G_f_GAN: 1.651 G_f_GAN_Feat: 12.678 D_f_real: 0.537 D_f_fake: 0.397 \n",
      "(epoch: 10, iters: 5, time: 0.224) G_GAN: 1.830 G_GAN_Feat: 9.163 G_VGG: 9.983 D_real: 0.701 D_fake: 0.411 G_f_GAN: 1.288 G_f_GAN_Feat: 11.092 D_f_real: 0.546 D_f_fake: 0.718 \n",
      "(epoch: 10, iters: 6, time: 0.225) G_GAN: 1.664 G_GAN_Feat: 7.792 G_VGG: 9.807 D_real: 0.410 D_fake: 0.420 G_f_GAN: 1.661 G_f_GAN_Feat: 12.246 D_f_real: 0.550 D_f_fake: 0.516 \n",
      "(epoch: 10, iters: 7, time: 0.223) G_GAN: 1.505 G_GAN_Feat: 6.975 G_VGG: 9.848 D_real: 0.398 D_fake: 0.441 G_f_GAN: 1.373 G_f_GAN_Feat: 9.908 D_f_real: 0.606 D_f_fake: 0.543 \n",
      "(epoch: 10, iters: 8, time: 0.223) G_GAN: 1.679 G_GAN_Feat: 8.505 G_VGG: 10.404 D_real: 0.404 D_fake: 0.418 G_f_GAN: 1.585 G_f_GAN_Feat: 12.640 D_f_real: 0.517 D_f_fake: 0.525 \n",
      "(epoch: 10, iters: 9, time: 0.224) G_GAN: 1.714 G_GAN_Feat: 7.686 G_VGG: 9.769 D_real: 0.483 D_fake: 0.432 G_f_GAN: 1.630 G_f_GAN_Feat: 11.601 D_f_real: 0.728 D_f_fake: 0.491 \n",
      "(epoch: 10, iters: 10, time: 0.218) G_GAN: 1.666 G_GAN_Feat: 8.294 G_VGG: 10.058 D_real: 0.441 D_fake: 0.448 G_f_GAN: 1.448 G_f_GAN_Feat: 13.709 D_f_real: 0.725 D_f_fake: 0.519 \n",
      "End of epoch 10 / 10 \t Time Taken: 3 sec\n",
      "saving the model at the end of epoch 10, iters 100\n"
     ]
    }
   ],
   "source": [
    "for epoch in range(start_epoch, opt.niter + opt.niter_decay + 1):\n",
    "    epoch_start_time = time.time()\n",
    "    if epoch != start_epoch:\n",
    "        epoch_iter = epoch_iter % dataset_size\n",
    "    for i, data in enumerate(dataset, start=epoch_iter):\n",
    "        iter_start_time = time.time()\n",
    "        total_steps += opt.batchSize\n",
    "        epoch_iter += opt.batchSize\n",
    "\n",
    "        # whether to collect output images\n",
    "        save_fake = total_steps % opt.display_freq == display_delta\n",
    "        \n",
    "        ############## Forward Pass ######################\n",
    "        losses, generated = model(Variable(data['label']), Variable(data['inst']), \n",
    "            Variable(data['image']), Variable(data['feat']), infer=save_fake)\n",
    "        \n",
    "        # sum per device losses\n",
    "        losses = [ torch.mean(x) if not isinstance(x, int) else x for x in losses ]\n",
    "        loss_dict = dict(zip(model.module.loss_names, losses))\n",
    "\n",
    "        # calculate final loss scalar\n",
    "        loss_D = (loss_dict['D_fake'] + loss_dict['D_real']) * 0.5 \n",
    "        loss_D += (loss_dict['D_f_real'] + loss_dict['D_f_fake']) * 0.5 \n",
    "        loss_G = loss_dict['G_GAN'] + loss_dict.get('G_GAN_Feat',0) + loss_dict.get('G_VGG',0)\n",
    "        loss_G += loss_dict['G_f_GAN'] + loss_dict.get('G_f_GAN_Feat', 0)\n",
    "        # 'G_f_GAN', 'G_f_GAN_Feat', 'D_f_real', 'D_f_fake'\n",
    "        ############### Backward Pass ####################\n",
    "        # update generator weights\n",
    "        model.module.optimizer_G.zero_grad()\n",
    "        loss_G.backward()\n",
    "        model.module.optimizer_G.step()\n",
    "\n",
    "        # update discriminator weights\n",
    "        model.module.optimizer_D.zero_grad()\n",
    "        loss_D.backward()\n",
    "        model.module.optimizer_D.step()\n",
    "        \n",
    "        #call([\"nvidia-smi\", \"--format=csv\", \"--query-gpu=memory.used,memory.free\"]) \n",
    "\n",
    "        ############## Display results and errors ##########\n",
    "        ### print out errors\n",
    "        if total_steps % opt.print_freq == print_delta:\n",
    "            errors = {k: v.data[0] if not isinstance(v, int) else v for k, v in loss_dict.items()}\n",
    "            t = (time.time() - iter_start_time) / opt.batchSize\n",
    "            visualizer.print_current_errors(epoch, epoch_iter, errors, t)\n",
    "            visualizer.plot_current_errors(errors, total_steps)\n",
    "\n",
    "        ### display output images\n",
    "        if save_fake:\n",
    "            input_image =  util.tensor2im(data['image'][0])\n",
    "            if opt.add_face_disc:\n",
    "                    ys, ye, xs, xe = model.module.get_face_region(data['label'])\n",
    "                    if ys is not None:\n",
    "                        input_image[ys, xs:xe, :] = input_image[ye, xs:xe, :] = input_image[ys:ye, xs, :] = input_image[ys:ye, xe, :] = 255 \n",
    "\n",
    "            visuals = OrderedDict([('input_label', util.tensor2label(data['label'][0], opt.label_nc)),\n",
    "                                   ('synthesized_image', util.tensor2im(generated[0].data)),\n",
    "                                   # ('res_image', util.tensor2im(generated[1].data[0])),\n",
    "                                   ('real_image', input_image)])\n",
    "                                   #('feat_image', util.tensor2im(data['feat'][0]))])\n",
    "            visualizer.display_current_results(visuals, epoch, total_steps)\n",
    "\n",
    "        ### save latest model\n",
    "        if total_steps % opt.save_latest_freq == save_delta:\n",
    "            print('saving the latest model (epoch %d, total_steps %d)' % (epoch, total_steps))\n",
    "            model.module.save('latest')            \n",
    "            np.savetxt(iter_path, (epoch, epoch_iter), delimiter=',', fmt='%d')\n",
    "\n",
    "        if epoch_iter >= dataset_size:\n",
    "            break\n",
    "       \n",
    "    # end of epoch \n",
    "    iter_end_time = time.time()\n",
    "    print('End of epoch %d / %d \\t Time Taken: %d sec' %\n",
    "          (epoch, opt.niter + opt.niter_decay, time.time() - epoch_start_time))\n",
    "\n",
    "    ### save model for this epoch\n",
    "    if epoch % opt.save_epoch_freq == 0:\n",
    "        print('saving the model at the end of epoch %d, iters %d' % (epoch, total_steps))        \n",
    "        model.module.save('latest')\n",
    "        model.module.save(epoch)\n",
    "        np.savetxt(iter_path, (epoch+1, 0), delimiter=',', fmt='%d')\n",
    "\n",
    "    ### instead of only training the local enhancer, train the entire network after certain iterations\n",
    "    if (opt.niter_fix_global != 0) and (epoch == opt.niter_fix_global):\n",
    "        model.module.update_fixed_params()\n",
    "\n",
    "    ### linearly decay learning rate after certain iterations\n",
    "    if epoch > opt.niter:\n",
    "        model.module.update_learning_rate()\n",
    "        \n",
    "torch.cuda.empty_cache()"
   ]
  },
  {
   "cell_type": "code",
   "execution_count": 10,
   "metadata": {},
   "outputs": [
    {
     "data": {
      "text/plain": [
       "torch.Size([1, 1, 224, 224])"
      ]
     },
     "execution_count": 10,
     "metadata": {},
     "output_type": "execute_result"
    }
   ],
   "source": [
    "data['label'].shape"
   ]
  },
  {
   "cell_type": "code",
   "execution_count": 11,
   "metadata": {},
   "outputs": [
    {
     "data": {
      "text/plain": [
       "[tensor(1.6665, device='cuda:0', grad_fn=<MeanBackward1>),\n",
       " tensor(8.2942, device='cuda:0', grad_fn=<MeanBackward1>),\n",
       " tensor(10.0581, device='cuda:0', grad_fn=<MeanBackward1>),\n",
       " tensor(0.4408, device='cuda:0', grad_fn=<MeanBackward1>),\n",
       " tensor(0.4475, device='cuda:0', grad_fn=<MeanBackward1>),\n",
       " tensor(1.4475, device='cuda:0', grad_fn=<MeanBackward1>),\n",
       " tensor(13.7089, device='cuda:0', grad_fn=<MeanBackward1>),\n",
       " tensor(0.7248, device='cuda:0', grad_fn=<MeanBackward1>),\n",
       " tensor(0.5185, device='cuda:0', grad_fn=<MeanBackward1>)]"
      ]
     },
     "execution_count": 11,
     "metadata": {},
     "output_type": "execute_result"
    }
   ],
   "source": [
    "losses"
   ]
  },
  {
   "cell_type": "code",
   "execution_count": 12,
   "metadata": {},
   "outputs": [
    {
     "data": {
      "text/plain": [
       "torch.Size([1, 3, 224, 224])"
      ]
     },
     "execution_count": 12,
     "metadata": {},
     "output_type": "execute_result"
    }
   ],
   "source": [
    "data['image'].size()"
   ]
  },
  {
   "cell_type": "code",
   "execution_count": 13,
   "metadata": {},
   "outputs": [
    {
     "data": {
      "text/plain": [
       "torch.Size([1, 1, 224, 224])"
      ]
     },
     "execution_count": 13,
     "metadata": {},
     "output_type": "execute_result"
    }
   ],
   "source": [
    "data['label'].size()"
   ]
  },
  {
   "cell_type": "code",
   "execution_count": 14,
   "metadata": {},
   "outputs": [
    {
     "data": {
      "text/plain": [
       "torch.Size([1])"
      ]
     },
     "execution_count": 14,
     "metadata": {},
     "output_type": "execute_result"
    }
   ],
   "source": [
    "data['feat'].size()"
   ]
  },
  {
   "cell_type": "code",
   "execution_count": 15,
   "metadata": {},
   "outputs": [
    {
     "data": {
      "text/plain": [
       "24.0"
      ]
     },
     "execution_count": 15,
     "metadata": {},
     "output_type": "execute_result"
    }
   ],
   "source": [
    "768 / 32"
   ]
  },
  {
   "cell_type": "code",
   "execution_count": 16,
   "metadata": {},
   "outputs": [],
   "source": [
    "import cv2\n",
    "import numpy as np"
   ]
  },
  {
   "cell_type": "code",
   "execution_count": 17,
   "metadata": {},
   "outputs": [],
   "source": [
    "img = cv2.imread('/home/yaosy/Document/club/deep-imitation-dev/server-backend/data/target/MJ_dance/train_img/img_4508.png')"
   ]
  },
  {
   "cell_type": "code",
   "execution_count": 18,
   "metadata": {},
   "outputs": [
    {
     "data": {
      "text/plain": [
       "(480, 480)"
      ]
     },
     "execution_count": 18,
     "metadata": {},
     "output_type": "execute_result"
    }
   ],
   "source": [
    "np.zeros(img.shape[:2]).shape"
   ]
  }
 ],
 "metadata": {
  "kernelspec": {
   "display_name": "Python 3",
   "language": "python",
   "name": "python3"
  },
  "language_info": {
   "codemirror_mode": {
    "name": "ipython",
    "version": 3
   },
   "file_extension": ".py",
   "mimetype": "text/x-python",
   "name": "python",
   "nbconvert_exporter": "python",
   "pygments_lexer": "ipython3",
   "version": "3.6.5"
  }
 },
 "nbformat": 4,
 "nbformat_minor": 2
}
